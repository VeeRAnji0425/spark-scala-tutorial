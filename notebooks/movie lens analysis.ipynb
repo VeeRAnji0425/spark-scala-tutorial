{
 "cells": [
  {
   "cell_type": "code",
   "execution_count": 15,
   "metadata": {},
   "outputs": [
    {
     "data": {
      "text/plain": [
       "user_data = ./u.user MapPartitionsRDD[24] at textFile at <console>:27\n"
      ]
     },
     "metadata": {},
     "output_type": "display_data"
    },
    {
     "data": {
      "text/plain": [
       "./u.user MapPartitionsRDD[24] at textFile at <console>:27"
      ]
     },
     "execution_count": 15,
     "metadata": {},
     "output_type": "execute_result"
    }
   ],
   "source": [
    "val user_data = sc.textFile(\"./u.user\")"
   ]
  },
  {
   "cell_type": "code",
   "execution_count": 16,
   "metadata": {},
   "outputs": [
    {
     "data": {
      "text/plain": [
       "1|24|M|technician|85711"
      ]
     },
     "execution_count": 16,
     "metadata": {},
     "output_type": "execute_result"
    }
   ],
   "source": [
    "user_data.first()"
   ]
  },
  {
   "cell_type": "markdown",
   "metadata": {},
   "source": [
    "Since | is a regular expression you will need to split by escaping that"
   ]
  },
  {
   "cell_type": "code",
   "execution_count": 17,
   "metadata": {},
   "outputs": [
    {
     "data": {
      "text/plain": [
       "user_fields = MapPartitionsRDD[25] at map at <console>:29\n"
      ]
     },
     "metadata": {},
     "output_type": "display_data"
    },
    {
     "data": {
      "text/plain": [
       "MapPartitionsRDD[25] at map at <console>:29"
      ]
     },
     "execution_count": 17,
     "metadata": {},
     "output_type": "execute_result"
    }
   ],
   "source": [
    "val user_fields = user_data.map(_.split(\"\\\\|\"))"
   ]
  },
  {
   "cell_type": "markdown",
   "metadata": {},
   "source": [
    "We will then count the number of users, genders, occupations, and ZIP codes.\n",
    "We can achieve this by running the following code in the console, line by line.\n",
    "Note that we do not cache the data, as it is unnecessary for this small size:"
   ]
  },
  {
   "cell_type": "code",
   "execution_count": 18,
   "metadata": {},
   "outputs": [
    {
     "name": "stdout",
     "output_type": "stream",
     "text": [
      "Users: 943, genders: 2, occupations: 21, ZIP codes: 795\n"
     ]
    },
    {
     "data": {
      "text/plain": [
       "num_users = 943\n",
       "num_genders = 2\n",
       "num_occupations = 21\n",
       "num_zipcodes = 795\n"
      ]
     },
     "metadata": {},
     "output_type": "display_data"
    },
    {
     "data": {
      "text/plain": [
       "795"
      ]
     },
     "execution_count": 18,
     "metadata": {},
     "output_type": "execute_result"
    }
   ],
   "source": [
    "val num_users = user_fields.map(_(0)).count()\n",
    "val num_genders = user_fields.map(_(2)).distinct().count()\n",
    "val num_occupations = user_fields.map(_(3)).distinct().count()\n",
    "val num_zipcodes = user_fields.map(_(4)).distinct().count()\n",
    "println(s\"Users: $num_users, genders: $num_genders, occupations: $num_occupations, ZIP codes: $num_zipcodes\")"
   ]
  },
  {
   "cell_type": "code",
   "execution_count": null,
   "metadata": {},
   "outputs": [],
   "source": []
  }
 ],
 "metadata": {
  "kernelspec": {
   "display_name": "Apache Toree - Scala",
   "language": "scala",
   "name": "apache_toree_scala"
  },
  "language_info": {
   "codemirror_mode": "text/x-scala",
   "file_extension": ".scala",
   "mimetype": "text/x-scala",
   "name": "scala",
   "pygments_lexer": "scala",
   "version": "2.11.8"
  }
 },
 "nbformat": 4,
 "nbformat_minor": 2
}
