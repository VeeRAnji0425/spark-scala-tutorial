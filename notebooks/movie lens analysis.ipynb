{
 "cells": [
  {
   "cell_type": "markdown",
   "metadata": {},
   "source": [
    "Exploring the user dataset."
   ]
  },
  {
   "cell_type": "code",
   "execution_count": 15,
   "metadata": {},
   "outputs": [
    {
     "data": {
      "text/plain": [
       "user_data = ./u.user MapPartitionsRDD[24] at textFile at <console>:27\n"
      ]
     },
     "metadata": {},
     "output_type": "display_data"
    },
    {
     "data": {
      "text/plain": [
       "./u.user MapPartitionsRDD[24] at textFile at <console>:27"
      ]
     },
     "execution_count": 15,
     "metadata": {},
     "output_type": "execute_result"
    }
   ],
   "source": [
    "val user_data = sc.textFile(\"./u.user\")"
   ]
  },
  {
   "cell_type": "code",
   "execution_count": 16,
   "metadata": {},
   "outputs": [
    {
     "data": {
      "text/plain": [
       "1|24|M|technician|85711"
      ]
     },
     "execution_count": 16,
     "metadata": {},
     "output_type": "execute_result"
    }
   ],
   "source": [
    "user_data.first()"
   ]
  },
  {
   "cell_type": "markdown",
   "metadata": {},
   "source": [
    "Since | is a regular expression you will need to split by escaping that"
   ]
  },
  {
   "cell_type": "code",
   "execution_count": 17,
   "metadata": {},
   "outputs": [
    {
     "data": {
      "text/plain": [
       "user_fields = MapPartitionsRDD[25] at map at <console>:29\n"
      ]
     },
     "metadata": {},
     "output_type": "display_data"
    },
    {
     "data": {
      "text/plain": [
       "MapPartitionsRDD[25] at map at <console>:29"
      ]
     },
     "execution_count": 17,
     "metadata": {},
     "output_type": "execute_result"
    }
   ],
   "source": [
    "val user_fields = user_data.map(_.split(\"\\\\|\"))"
   ]
  },
  {
   "cell_type": "markdown",
   "metadata": {},
   "source": [
    "We will then count the number of users, genders, occupations, and ZIP codes.\n",
    "We can achieve this by running the following code in the console, line by line.\n",
    "Note that we do not cache the data, as it is unnecessary for this small size:"
   ]
  },
  {
   "cell_type": "code",
   "execution_count": 18,
   "metadata": {},
   "outputs": [
    {
     "name": "stdout",
     "output_type": "stream",
     "text": [
      "Users: 943, genders: 2, occupations: 21, ZIP codes: 795\n"
     ]
    },
    {
     "data": {
      "text/plain": [
       "num_users = 943\n",
       "num_genders = 2\n",
       "num_occupations = 21\n",
       "num_zipcodes = 795\n"
      ]
     },
     "metadata": {},
     "output_type": "display_data"
    },
    {
     "data": {
      "text/plain": [
       "795"
      ]
     },
     "execution_count": 18,
     "metadata": {},
     "output_type": "execute_result"
    }
   ],
   "source": [
    "val num_users = user_fields.map(_(0)).count()\n",
    "val num_genders = user_fields.map(_(2)).distinct().count()\n",
    "val num_occupations = user_fields.map(_(3)).distinct().count()\n",
    "val num_zipcodes = user_fields.map(_(4)).distinct().count()\n",
    "println(s\"Users: $num_users, genders: $num_genders, occupations: $num_occupations, ZIP codes: $num_zipcodes\")"
   ]
  },
  {
   "cell_type": "markdown",
   "metadata": {},
   "source": [
    "Next, we will create a histogram to analyze the distribution of user ages:"
   ]
  },
  {
   "cell_type": "code",
   "execution_count": 20,
   "metadata": {},
   "outputs": [
    {
     "data": {
      "text/plain": [
       "defined class Distribution\n"
      ]
     },
     "metadata": {},
     "output_type": "display_data"
    },
    {
     "data": {
      "text/plain": [
       "<console>:22: warning: match may not be exhaustive.\n",
       "It would fail on the following input: Nil\n",
       "           bounds match {\n",
       "           ^\n"
      ]
     },
     "metadata": {},
     "output_type": "display_data"
    }
   ],
   "source": [
    "case class Distribution(nBins: Int, data: List[Double]) {\n",
    "  require(data.length > nBins)\n",
    "\n",
    "  val Epsilon = 0.000001\n",
    "  val (max,min) = (data.max,data.min)\n",
    "  val binWidth = (max - min) / nBins + Epsilon\n",
    "  val bounds = (1 to nBins).map { x => min + binWidth * x }.toList\n",
    "\n",
    "  def histo(bounds: List[Double], data: List[Double]): List[List[Double]] =\n",
    "    bounds match {\n",
    "      case h :: Nil => List(data)\n",
    "      case h :: t   => val (l,r) = data.partition( _ < h) ; l :: histo(t,r)\n",
    "    }\n",
    "\n",
    "  val histogram = histo(bounds, data)\n",
    "}"
   ]
  },
  {
   "cell_type": "code",
   "execution_count": 21,
   "metadata": {},
   "outputs": [
    {
     "data": {
      "text/plain": [
       "data = Array(7.274097161227119, 6.609830931813989, 0.24712136918945693, 6.63766458504231, 6.778511572430764, 8.60795736438158, 1.3693652725243466, 4.810927596279217, 3.910101666256529, 7.994079307479383, 3.2854793667005575, 9.414714646421594, 9.093756404007953, 7.026238355305825, 3.3662152106357413, 5.568147697991704, 4.039637023562472, 4.2087190037795805, 9.809112281760118, 3.715438827825035, 4.850298402088543, 1.6452832890301183, 9.88367923336149, 9.905460130974715, 8.949535180575031, 7.291782755511851, 5.018470199043961, 9.72938916148983, 0.7819917020577727, 1.2881418985981097, 7.410543313494181, 9.398179429468716, 5.148583166362401, 1.7313442573335869, 6.910042157073693, 0.029499333533582472, 3.7712954758112383, 6.745197396503597, 8.817415553012655, 4.114167589434018,...\n"
      ]
     },
     "metadata": {},
     "output_type": "display_data"
    },
    {
     "data": {
      "text/plain": [
       "[7.274097161227119, 6.609830931813989, 0.24712136918945693, 6.63766458504231, 6.778511572430764, 8.60795736438158, 1.3693652725243466, 4.810927596279217, 3.910101666256529, 7.994079307479383, 3.2854793667005575, 9.414714646421594, 9.093756404007953, 7.026238355305825, 3.3662152106357413, 5.568147697991704, 4.039637023562472, 4.2087190037795805, 9.809112281760118, 3.715438827825035, 4.850298402088543, 1.6452832890301183, 9.88367923336149, 9.905460130974715, 8.949535180575031, 7.291782755511851, 5.018470199043961, 9.72938916148983, 0.7819917020577727, 1.2881418985981097, 7.410543313494181, 9.398179429468716, 5.148583166362401, 1.7313442573335869, 6.910042157073693, 0.029499333533582472, 3.7712954758112383, 6.745197396503597, 8.817415553012655, 4.114167589434018, 0.22194992564356308, 6.5092895730264235, 2.928054267614184, 6.345012262698992, 0.7030261960947626, 1.0286930859943921, 1.6688845206564007, 4.516461739611398, 3.3346591072030085, 6.857613288178161, 0.493730769110855, 0.04107394697023814, 6.580441632929203, 8.734313982375586, 6.8390219286631915, 1.7795984820777733, 8.235672628611063, 0.14130192316272994, 4.888679455369443, 1.3440536828158034, 0.005216430761233459, 0.17388605432466675, 2.1567944612603185, 2.8086974843697043, 9.114146747162486, 2.7818662664816465, 0.4689672792705235, 4.85165526941378, 7.622868854210827, 8.443258116669684, 8.307942601206934, 8.750364856337882, 2.159424788384683, 7.635585368864599, 3.6864470511807887, 1.36688071822469, 1.6352083113170646, 0.08942518484682083, 6.719894321715919, 8.28448209755505, 8.176326101359782, 3.740525869849379, 8.893895890952793, 8.594907876518207, 6.981358846310451, 2.5409572049014595, 1.6562714155469782, 9.485940328876643, 4.1072963607874255, 2.846397534593649, 0.4105310470409229, 5.741947136003322, 7.288925603110142, 3.9657977061961844, 1.2475543169426073, 6.5453823902269175, 3.812980647677672, 9.641308300109724, 6.8244651572356005, 9.555136921534773]"
      ]
     },
     "execution_count": 21,
     "metadata": {},
     "output_type": "execute_result"
    }
   ],
   "source": [
    "val data = Array.tabulate(100){ _ => scala.util.Random.nextDouble * 10 }\n",
    "val h = Distribution(5, data.toList).histogram"
   ]
  },
  {
   "cell_type": "code",
   "execution_count": 22,
   "metadata": {},
   "outputs": [
    {
     "data": {
      "text/plain": [
       "tabulated = List(25, 16, 14, 21, 24)\n"
      ]
     },
     "metadata": {},
     "output_type": "display_data"
    },
    {
     "data": {
      "text/plain": [
       "List(25, 16, 14, 21, 24)"
      ]
     },
     "execution_count": 22,
     "metadata": {},
     "output_type": "execute_result"
    }
   ],
   "source": [
    "val tabulated = h.map {_.size}"
   ]
  },
  {
   "cell_type": "markdown",
   "metadata": {},
   "source": [
    "Exploring the movie dataset"
   ]
  },
  {
   "cell_type": "code",
   "execution_count": 3,
   "metadata": {},
   "outputs": [
    {
     "data": {
      "text/plain": [
       "movie_data = /home/jovyan/data/u.item MapPartitionsRDD[3] at textFile at <console>:27\n"
      ]
     },
     "metadata": {},
     "output_type": "display_data"
    },
    {
     "data": {
      "text/plain": [
       "/home/jovyan/data/u.item MapPartitionsRDD[3] at textFile at <console>:27"
      ]
     },
     "execution_count": 3,
     "metadata": {},
     "output_type": "execute_result"
    }
   ],
   "source": [
    "val movie_data = sc.textFile(\"/home/jovyan/data/u.item\")"
   ]
  },
  {
   "cell_type": "code",
   "execution_count": 4,
   "metadata": {},
   "outputs": [
    {
     "data": {
      "text/plain": [
       "1|Toy Story (1995)|01-Jan-1995||http://us.imdb.com/M/title-exact?Toy%20Story%20(1995)|0|0|0|1|1|1|0|0|0|0|0|0|0|0|0|0|0|0|0"
      ]
     },
     "execution_count": 4,
     "metadata": {},
     "output_type": "execute_result"
    }
   ],
   "source": [
    "movie_data.first()"
   ]
  },
  {
   "cell_type": "code",
   "execution_count": 5,
   "metadata": {},
   "outputs": [
    {
     "data": {
      "text/plain": [
       "num_movies = 1682\n"
      ]
     },
     "metadata": {},
     "output_type": "display_data"
    },
    {
     "data": {
      "text/plain": [
       "1682"
      ]
     },
     "execution_count": 5,
     "metadata": {},
     "output_type": "execute_result"
    }
   ],
   "source": [
    "val num_movies = movie_data.count()"
   ]
  },
  {
   "cell_type": "code",
   "execution_count": null,
   "metadata": {},
   "outputs": [],
   "source": [
    "def convert_year"
   ]
  }
 ],
 "metadata": {
  "kernelspec": {
   "display_name": "Apache Toree - Scala",
   "language": "scala",
   "name": "apache_toree_scala"
  },
  "language_info": {
   "codemirror_mode": "text/x-scala",
   "file_extension": ".scala",
   "mimetype": "text/x-scala",
   "name": "scala",
   "pygments_lexer": "scala",
   "version": "2.11.8"
  }
 },
 "nbformat": 4,
 "nbformat_minor": 2
}
