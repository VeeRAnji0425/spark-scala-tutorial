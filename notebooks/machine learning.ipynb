{
 "cells": [
  {
   "cell_type": "code",
   "execution_count": 1,
   "metadata": {},
   "outputs": [
    {
     "name": "stdout",
     "output_type": "stream",
     "text": [
      "Vector()\n"
     ]
    },
    {
     "data": {
      "text/plain": [
       "v = Vector()\n"
      ]
     },
     "metadata": {},
     "output_type": "display_data"
    },
    {
     "data": {
      "text/plain": [
       "Vector()"
      ]
     },
     "execution_count": 1,
     "metadata": {},
     "output_type": "execute_result"
    }
   ],
   "source": [
    "val v = scala.collection.immutable.Vector.empty\n",
    "println(v)"
   ]
  },
  {
   "cell_type": "code",
   "execution_count": 2,
   "metadata": {},
   "outputs": [
    {
     "name": "stdout",
     "output_type": "stream",
     "text": [
      "Vector(10, 20, 30)\n"
     ]
    },
    {
     "data": {
      "text/plain": [
       "v2 = Vector(10, 20, 30)\n"
      ]
     },
     "metadata": {},
     "output_type": "display_data"
    },
    {
     "data": {
      "text/plain": [
       "Vector(10, 20, 30)"
      ]
     },
     "execution_count": 2,
     "metadata": {},
     "output_type": "execute_result"
    }
   ],
   "source": [
    "// Add elements from List of Ints to end of vector.\n",
    "val v2 = v ++ List(10, 20, 30)\n",
    "println(v2)"
   ]
  },
  {
   "cell_type": "code",
   "execution_count": 3,
   "metadata": {},
   "outputs": [],
   "source": [
    "import scala.collection.immutable.Vector"
   ]
  },
  {
   "cell_type": "code",
   "execution_count": 4,
   "metadata": {},
   "outputs": [
    {
     "data": {
      "text/plain": [
       "defined class LinearRegression\n"
      ]
     },
     "metadata": {},
     "output_type": "display_data"
    }
   ],
   "source": [
    "class LinearRegression {\n",
    " \n",
    "   private var computedGradient: Vector[Double] = Vector.fill(2){0}\n",
    " \n",
    "   def fit(x: Vector[Double], y: Vector[Double], lr: Float, iters: Int): Vector[Double] = {\n",
    "      val thetas: Vector[Double] = Vector.fill(y.length){0}\n",
    "      computedGradient = computeGradient(x, y, thetas, lr, iters)\n",
    "      computedGradient\n",
    "   }\n",
    " \n",
    "   def predict(x: Double): Double = {\n",
    "      val this_xj = v :+ 1.0 :+ x\n",
    "      computedGradient.zip(this_xj).map { case (x, y) => x * y }.sum // vector multiplication\n",
    "   }\n",
    " \n",
    "   private def computeGradient(x: Vector[Double], y: Vector[Double], thetas: Vector[Double], lr: Float, iterations: Int): Vector[Double] = {\n",
    "      val nbOfTrainingExamples = x.length\n",
    "      val computedThetas = (0 to iterations).foldLeft(thetas)({\n",
    "         case (thetas, i) =>\n",
    "            var updatedThetas = thetas\n",
    "            (0 to x.length-1).map  { j =>\n",
    "                val this_xj = v :+ 1.0 :+ x(j)\n",
    "                val predicted = updatedThetas.zip(this_xj).map { case (x, y) => x * y }.sum // vector multiplication\n",
    "                val error = predicted - y(j)\n",
    "                val grad = error * x(j)/nbOfTrainingExamples\n",
    "                updatedThetas = updatedThetas.map { _ - grad*lr }\n",
    "            }\n",
    "            updatedThetas\n",
    "      })\n",
    "      computedThetas\n",
    "   }\n",
    " \n",
    "}"
   ]
  },
  {
   "cell_type": "code",
   "execution_count": 5,
   "metadata": {},
   "outputs": [
    {
     "data": {
      "text/plain": [
       "vec = Vector()\n",
       "vec_x = Vector(1.0, 2.0)\n",
       "vec_y = Vector(2.0, 4.0)\n",
       "thetas = Vector(1.0, 1.0)\n"
      ]
     },
     "metadata": {},
     "output_type": "display_data"
    },
    {
     "data": {
      "text/plain": [
       "Vector(1.0, 1.0)"
      ]
     },
     "execution_count": 5,
     "metadata": {},
     "output_type": "execute_result"
    }
   ],
   "source": [
    "val vec = scala.collection.immutable.Vector.empty\n",
    "val vec_x = vec :+ 1.0 :+ 2.0\n",
    "val vec_y = vec :+ 2.0 :+ 4.0\n",
    "val thetas = vec :+ 1.0 :+ 1.0"
   ]
  },
  {
   "cell_type": "code",
   "execution_count": 6,
   "metadata": {},
   "outputs": [
    {
     "data": {
      "text/plain": [
       "lr = 0.02\n",
       "iterations = 10000\n",
       "model = LinearRegression@500a933e\n",
       "params = Vector(1.253807106512591, 1.253807106512591)\n",
       "predictions = 5.015228426050364\n"
      ]
     },
     "metadata": {},
     "output_type": "display_data"
    },
    {
     "data": {
      "text/plain": [
       "5.015228426050364"
      ]
     },
     "execution_count": 6,
     "metadata": {},
     "output_type": "execute_result"
    }
   ],
   "source": [
    "val lr = 0.02f\n",
    "val iterations = 10000\n",
    "\n",
    "val model = new LinearRegression()\n",
    "val params = model.fit(vec_x, vec_y, lr, iterations)\n",
    "val predictions = model.predict(3)"
   ]
  },
  {
   "cell_type": "code",
   "execution_count": null,
   "metadata": {},
   "outputs": [],
   "source": []
  },
  {
   "cell_type": "code",
   "execution_count": null,
   "metadata": {},
   "outputs": [],
   "source": []
  },
  {
   "cell_type": "code",
   "execution_count": null,
   "metadata": {},
   "outputs": [],
   "source": []
  },
  {
   "cell_type": "code",
   "execution_count": null,
   "metadata": {},
   "outputs": [],
   "source": []
  },
  {
   "cell_type": "code",
   "execution_count": null,
   "metadata": {},
   "outputs": [],
   "source": []
  },
  {
   "cell_type": "code",
   "execution_count": null,
   "metadata": {},
   "outputs": [],
   "source": []
  },
  {
   "cell_type": "markdown",
   "metadata": {},
   "source": [
    "Some things to consider\n",
    "\n",
    "* You should probably use the vector classes from the libraries of the libraries that you are using. You will probably be using the mllib library and hence you should be using `org.apache.spark.mllib.linalg.Vector`"
   ]
  },
  {
   "cell_type": "markdown",
   "metadata": {},
   "source": [
    "References:\n",
    "\n",
    "* https://www.cpuheater.com/scala/machine-learning-scala-linear-regression/"
   ]
  },
  {
   "cell_type": "code",
   "execution_count": null,
   "metadata": {},
   "outputs": [],
   "source": []
  }
 ],
 "metadata": {
  "kernelspec": {
   "display_name": "Apache Toree - Scala",
   "language": "scala",
   "name": "apache_toree_scala"
  },
  "language_info": {
   "codemirror_mode": "text/x-scala",
   "file_extension": ".scala",
   "mimetype": "text/x-scala",
   "name": "scala",
   "pygments_lexer": "scala",
   "version": "2.11.8"
  }
 },
 "nbformat": 4,
 "nbformat_minor": 2
}
